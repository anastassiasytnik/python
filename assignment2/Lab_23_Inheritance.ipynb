{
 "cells": [
  {
   "cell_type": "markdown",
   "metadata": {},
   "source": [
    "# Group 1"
   ]
  },
  {
   "cell_type": "markdown",
   "metadata": {},
   "source": [
    "1. What attributes can a class inherit from its parent class?"
   ]
  },
  {
   "cell_type": "markdown",
   "metadata": {},
   "source": [
    "2. Suppose `Labrador` is a subclass of `Dog`, which is a subclass of `Pet`. And suppose that variable `fido` is bound to an instance of `Dog`. When the python interpreter encounters the expression `fido.hunger`, in what order will it look to determine the value of the expression? (i.e., reorder the four things below).\n",
    "    - d) look for the value of the instance variable `hunger` in the instance that `fido` is bound to.\n",
    "    - b) look for the value of the class variable `hunger` in the class `Dog`.\n",
    "    - a) look for the value of the class variable `hunger` in the class `Pet`.\n",
    "    - ~c) look for the value of the class variable `hunger` in the class `Labrador`.~\n"
   ]
  },
  {
   "cell_type": "markdown",
   "metadata": {},
   "source": [
    "3. Describe the purpose of class inheritance\n",
    "Cleaner reusable code that easier to maintain"
   ]
  },
  {
   "cell_type": "markdown",
   "metadata": {},
   "source": [
    "# Subclasses of Pet\n",
    "We will work through the Tamagotchi code from the textbook to make sure we understand it all."
   ]
  },
  {
   "cell_type": "code",
   "execution_count": 1,
   "metadata": {
    "tags": []
   },
   "outputs": [],
   "source": [
    "# This code is the same as we had last week.\n",
    "from random import randrange\n",
    "\n",
    "class Pet():\n",
    "    boredom_decrement = 4\n",
    "    hunger_decrement = 6\n",
    "    boredom_threshold = 5\n",
    "    hunger_threshold = 10\n",
    "    sounds = ['Woof']\n",
    "    def __init__(self, name = \"Kitty\"):\n",
    "        self.name = name\n",
    "        self.hunger = randrange(self.hunger_threshold)\n",
    "        self.boredom = randrange(self.boredom_threshold)\n",
    "        self.sounds = self.sounds[:]\n",
    "\n",
    "    def clock_tick(self):\n",
    "        self.boredom += 1\n",
    "        self.hunger += 1\n",
    "\n",
    "    def mood(self):\n",
    "        if self.hunger <= self.hunger_threshold and \\\n",
    "           self.boredom <= self.boredom_threshold:\n",
    "            return \"happy\"\n",
    "        elif self.hunger > self.hunger_threshold:\n",
    "            return \"hungry\"\n",
    "        else:\n",
    "            return \"bored\"\n",
    "\n",
    "    def __str__(self):\n",
    "        state = \"\\tI'm {} the {}. I feel {}.\".format(self.name, type(self).__name__, self.mood())\n",
    "        return state\n",
    "\n",
    "    def hi(self):\n",
    "        random_sound = self.sounds[randrange(len(self.sounds))]\n",
    "        print('\\t\\t{} says {}'.format(self.name, \n",
    "                                      random_sound))\n",
    "        self.reduce_boredom()\n",
    "\n",
    "    def teach(self, word):\n",
    "        self.sounds.append(word)\n",
    "        self.reduce_boredom()\n",
    "\n",
    "    def feed(self):\n",
    "        self.reduce_hunger()\n",
    "\n",
    "    def reduce_hunger(self):\n",
    "        self.hunger = max(0, self.hunger - self.hunger_decrement)\n",
    "\n",
    "    def reduce_boredom(self):\n",
    "        self.boredom = max(0, self.boredom - self.boredom_decrement)"
   ]
  },
  {
   "cell_type": "markdown",
   "metadata": {},
   "source": [
    "# the Cat subclass\n",
    "4. Explain what the following code does.\n",
    "Changes how cats react to hunger and bored attributes values when method `mood` is called"
   ]
  },
  {
   "cell_type": "code",
   "execution_count": 2,
   "metadata": {
    "tags": []
   },
   "outputs": [],
   "source": [
    "class Cat(Pet):\n",
    "    sounds = ['Meow']\n",
    "    def mood(self):\n",
    "        if self.hunger > self.hunger_threshold:\n",
    "            return \"hungry\"\n",
    "        if self.boredom < 2:\n",
    "            return \"grumpy; leave me alone\"\n",
    "        elif self.boredom > self.boredom_threshold:\n",
    "            return \"bored\"\n",
    "        elif randrange(2) == 0:\n",
    "            return \"randomly annoyed\"\n",
    "        else:\n",
    "            return \"happy\""
   ]
  },
  {
   "cell_type": "markdown",
   "metadata": {},
   "source": [
    "# the Bird subclass"
   ]
  },
  {
   "cell_type": "markdown",
   "metadata": {},
   "source": [
    "Explain what the following code does. In particular:\n",
    "5. What does line 4 do? Line 4 calls `Pet`'s constructor to initialize name property\n",
    "6. What do lines 8 and 9 do? Lines 8 and 9 allow for more than 1 sound based on `chirp_number` property that is specific to `Bird`s\n",
    "In general - it allows birds to emit more than one sound when greeted"
   ]
  },
  {
   "cell_type": "code",
   "execution_count": 3,
   "metadata": {
    "tags": []
   },
   "outputs": [],
   "source": [
    "class Bird(Pet):\n",
    "    sounds = [\"chirp\"]\n",
    "    def __init__(self, name=\"Kitty\", chirp_number=2):\n",
    "        super().__init__(name)\n",
    "        self.chirp_number = chirp_number\n",
    "\n",
    "    def hi(self):\n",
    "        for i in range(self.chirp_number):\n",
    "            print(self.sounds[randrange(len(self.sounds))])\n",
    "        self.reduce_boredom()"
   ]
  },
  {
   "cell_type": "markdown",
   "metadata": {},
   "source": [
    "7. What will `t.chirp_number` be after the following code executes? It will be the default 2."
   ]
  },
  {
   "cell_type": "code",
   "execution_count": 4,
   "metadata": {
    "tags": []
   },
   "outputs": [
    {
     "name": "stdout",
     "output_type": "stream",
     "text": [
      "2\n"
     ]
    }
   ],
   "source": [
    "t = Bird(\"tweety\")\n",
    "print(t.chirp_number)"
   ]
  },
  {
   "cell_type": "markdown",
   "metadata": {},
   "source": [
    "8. will this be a runtime ERROR? No"
   ]
  },
  {
   "cell_type": "code",
   "execution_count": 5,
   "metadata": {
    "tags": []
   },
   "outputs": [
    {
     "name": "stdout",
     "output_type": "stream",
     "text": [
      "0\n"
     ]
    }
   ],
   "source": [
    "print(t.hunger)"
   ]
  },
  {
   "cell_type": "markdown",
   "metadata": {},
   "source": [
    "9. What will print out? 2 chirps"
   ]
  },
  {
   "cell_type": "code",
   "execution_count": 6,
   "metadata": {
    "scrolled": true,
    "tags": []
   },
   "outputs": [
    {
     "name": "stdout",
     "output_type": "stream",
     "text": [
      "chirp\n",
      "chirp\n"
     ]
    }
   ],
   "source": [
    "t.hi()"
   ]
  },
  {
   "cell_type": "markdown",
   "metadata": {},
   "source": [
    "10. Will the two sounds the print always be the same as each other? No because we use randrange inside the repetition loop"
   ]
  },
  {
   "cell_type": "code",
   "execution_count": 8,
   "metadata": {
    "tags": []
   },
   "outputs": [
    {
     "name": "stdout",
     "output_type": "stream",
     "text": [
      "cracker\n",
      "chirp\n"
     ]
    }
   ],
   "source": [
    "t.teach(\"cracker\")\n",
    "t.hi()"
   ]
  },
  {
   "cell_type": "markdown",
   "metadata": {},
   "source": [
    "# Group 4: Dog, Poodle, and Lab"
   ]
  },
  {
   "cell_type": "markdown",
   "metadata": {},
   "source": [
    "11. Explain what the following code does. Changes sound, mood reaction and \"thanks\" reaction to feeding"
   ]
  },
  {
   "cell_type": "code",
   "execution_count": 27,
   "metadata": {
    "tags": []
   },
   "outputs": [],
   "source": [
    "class Dog(Pet):\n",
    "    sounds = ['Woof', 'Ruff']\n",
    "    def mood(self):\n",
    "        if (self.hunger > self.hunger_threshold) and \\\n",
    "           (self.boredom > self.boredom_threshold):\n",
    "            return \"bored and hungry\"\n",
    "        elif self.hunger > self.hunger_threshold:\n",
    "            return \"hungry\"\n",
    "        elif self.boredom > self.boredom_threshold:\n",
    "            return \"bored\" \n",
    "        else:\n",
    "            return \"happy\"\n",
    "    def feed(self):\n",
    "        Pet.feed(self)\n",
    "        print(\"Arf! Thanks!\")\n",
    "        \n",
    "    def __str__(self):\n",
    "        return super().__str__() + \"Boredom: \" + str(self.boredom)\n",
    "        "
   ]
  },
  {
   "cell_type": "markdown",
   "metadata": {},
   "source": [
    "12. Explain what the following code does. Adds an ability to react to fetch command, which is added to greeting"
   ]
  },
  {
   "cell_type": "code",
   "execution_count": 34,
   "metadata": {
    "tags": []
   },
   "outputs": [],
   "source": [
    "class Lab(Dog):\n",
    "    def fetch(self):\n",
    "        return \"I found the tennis ball!\"\n",
    "\n",
    "    def hi(self):\n",
    "        print(self.fetch())\n",
    "        self.reduce_boredom()\n",
    "        print(self.sounds[randrange(len(self.sounds))])\n",
    "        self.reduce_boredom()"
   ]
  },
  {
   "cell_type": "markdown",
   "metadata": {},
   "source": [
    "13. Explain what the following code does. Adds dancing ability which is used as a reaction to greeting"
   ]
  },
  {
   "cell_type": "code",
   "execution_count": 29,
   "metadata": {
    "tags": []
   },
   "outputs": [],
   "source": [
    "class Poodle(Dog):\n",
    "    def dance(self):\n",
    "        return \"Dancin' in circles like poodles do.\"\n",
    "\n",
    "    def hi(self):\n",
    "        print(self.dance())\n",
    "        super().hi()"
   ]
  },
  {
   "cell_type": "markdown",
   "metadata": {},
   "source": [
    "14. Trace through the code below. Will `d.sounds` be `['Woof']` as defined in class Pet? or `['Woof', 'Ruff']` as defined in class Dog, or something else?? Dog"
   ]
  },
  {
   "cell_type": "code",
   "execution_count": 12,
   "metadata": {
    "tags": []
   },
   "outputs": [
    {
     "data": {
      "text/plain": [
       "['Woof', 'Ruff']"
      ]
     },
     "execution_count": 12,
     "metadata": {},
     "output_type": "execute_result"
    }
   ],
   "source": [
    "d = Lab(\"Friendly\")\n",
    "d.sounds"
   ]
  },
  {
   "cell_type": "markdown",
   "metadata": {},
   "source": [
    "15. After the following code executes, will \"Friendly\" be bored? How about \"Astro\"? Both shouldn't be bored"
   ]
  },
  {
   "cell_type": "code",
   "execution_count": 33,
   "metadata": {
    "tags": []
   },
   "outputs": [
    {
     "name": "stdout",
     "output_type": "stream",
     "text": [
      "\tI'm Friendly the Lab. I feel happy.Boredom: 2\n",
      "\tI'm Astro the Poodle. I feel happy.Boredom: 4\n",
      "\tI'm Friendly the Lab. I feel bored and hungry.Boredom: 22\n",
      "I found the tennis ball!\n",
      "Woof\n",
      "\tI'm Friendly the Lab. I feel bored and hungry.Boredom: 22\n",
      "I found the tennis ball!\n",
      "Woof\n",
      "\tI'm Friendly the Lab. I feel bored and hungry.Boredom: 22\n",
      "I found the tennis ball!\n",
      "Ruff\n",
      "\tI'm Friendly the Lab. I feel bored and hungry.Boredom: 22\n",
      "I found the tennis ball!\n",
      "Woof\n",
      "\tI'm Friendly the Lab. I feel bored and hungry.Boredom: 22\n",
      "I found the tennis ball!\n",
      "Ruff\n",
      "\tI'm Friendly the Lab. I feel bored and hungry.Boredom: 22\n",
      "\tI'm Astro the Poodle. I feel bored and hungry.Boredom: 24\n",
      "Dancin' in circles like poodles do.\n",
      "\t\tAstro says Woof\n",
      "\tI'm Astro the Poodle. I feel bored and hungry.Boredom: 20\n",
      "Dancin' in circles like poodles do.\n",
      "\t\tAstro says Ruff\n",
      "\tI'm Astro the Poodle. I feel bored and hungry.Boredom: 16\n",
      "Dancin' in circles like poodles do.\n",
      "\t\tAstro says Woof\n",
      "\tI'm Astro the Poodle. I feel bored and hungry.Boredom: 12\n",
      "Dancin' in circles like poodles do.\n",
      "\t\tAstro says Ruff\n",
      "\tI'm Astro the Poodle. I feel bored and hungry.Boredom: 8\n",
      "Dancin' in circles like poodles do.\n",
      "\t\tAstro says Ruff\n",
      "\tI'm Astro the Poodle. I feel hungry.Boredom: 4\n",
      "\tI'm Friendly the Lab. I feel bored and hungry.Boredom: 22\n",
      "\tI'm Astro the Poodle. I feel hungry.Boredom: 4\n"
     ]
    }
   ],
   "source": [
    "d = Lab(\"Friendly\")\n",
    "p = Poodle(\"Astro\")\n",
    "print(d)\n",
    "print(p)\n",
    "for x in [d, p]:\n",
    "    for _ in range(20):\n",
    "        x.clock_tick()\n",
    "    print(x)\n",
    "    for _ in range(5):\n",
    "        x.hi()\n",
    "        print(x)\n",
    "print(d)\n",
    "print(p)"
   ]
  },
  {
   "cell_type": "markdown",
   "metadata": {},
   "source": [
    "# Group 5: the play() function\n",
    "Now we'll work through the code for the revised `play` function. The only change here from last week's code is in the prompt and the handling of the Adopt command, where the user has to specify a type of pet."
   ]
  },
  {
   "cell_type": "code",
   "execution_count": 37,
   "metadata": {
    "tags": []
   },
   "outputs": [],
   "source": [
    "pet_types = {'dog': Dog, 'lab': Lab, 'poodle': Poodle, 'cat': Cat, 'bird': Bird}\n",
    "def play():\n",
    "    animals = {}\n",
    "    option = \"\"\n",
    "    base_prompt = \\\n",
    "        \"\"\"Quit\n",
    "        Adopt <petname_with_no_spaces> <pet_type - choose dog, cat, lab, poodle, bird, or another unknown pet type>\n",
    "        Greet <petname>\n",
    "        Teach <petname> <word>\n",
    "        Feed <petname>\n",
    "\n",
    "        Choice: \"\"\"\n",
    "    feedback = \"\"\n",
    "    while True:\n",
    "        print(feedback)\n",
    "        feedback = \"\"\n",
    "        action = input(base_prompt)\n",
    "        words = action.split()\n",
    "        if len(words) > 0:\n",
    "            command = words[0]\n",
    "        else:\n",
    "            command = None\n",
    "        if command == \"Quit\":\n",
    "            print(\"Exiting...\")\n",
    "            return\n",
    "        elif command == \"Adopt\" and len(words) > 1:\n",
    "            name = words[1]\n",
    "            if name in animals:\n",
    "                feedback += \"You already have a pet with that name\\n\"\n",
    "            else:\n",
    "                pet_type_name = words[2].lower().strip()\n",
    "                if pet_type_name in pet_types:\n",
    "                    pet_class = pet_types[pet_type_name]\n",
    "                else:\n",
    "                    pet_class = Pet\n",
    "                print(\"PET CLASS: \" + str(pet_class))   \n",
    "                animals[name] = pet_class(name)\n",
    "        elif command == \"Greet\" and len(words) > 1:\n",
    "            name = words[1]\n",
    "            if name in animals:\n",
    "                animals[name].hi()\n",
    "            else:\n",
    "                feedback += \"I didn't recognize that pet name. Please try again.\\n\"\n",
    "        elif command == \"Teach\" and len(words) > 2:\n",
    "            name = words[1]\n",
    "            word = words[2]\n",
    "            if name not in animals:\n",
    "                feedback += \"I didn't recognize that pet name. Please try again.\"\n",
    "            else:\n",
    "                pet = animals[name]\n",
    "                pet.teach(word)\n",
    "        elif command == \"Feed\" and len(words) > 1:\n",
    "            name = words[1]\n",
    "            if name in animals:\n",
    "                animals[name].feed()\n",
    "            else:\n",
    "                feedback += \"I didn't recognize that pet name. Please try again.\"\n",
    "        else:\n",
    "            feedback+= \"I didn't understand that. Please try again.\"\n",
    "\n",
    "        for pet in animals.values():\n",
    "            pet.clock_tick()\n",
    "            feedback += \"\\n\" + pet.__str__()"
   ]
  },
  {
   "cell_type": "markdown",
   "metadata": {},
   "source": [
    "16. Suppose the user enters the following command:\n",
    "`Adopt Fluffy poodle`.\n",
    "    - What will be the value of the variable `pet_class` when line 36 executes? Poodle\n"
   ]
  },
  {
   "cell_type": "markdown",
   "metadata": {},
   "source": [
    "17. Suppose the user enters the following command:\n",
    "`Adopt Muffy rabbit`.\n",
    "What will be the value of the variable `pet_class` when line 36 executes? Pet"
   ]
  },
  {
   "cell_type": "markdown",
   "metadata": {},
   "source": [
    "19. So, what does line 36 do? calls the constructor of pet class."
   ]
  },
  {
   "cell_type": "markdown",
   "metadata": {},
   "source": [
    "# Let's play the game!"
   ]
  },
  {
   "cell_type": "code",
   "execution_count": 38,
   "metadata": {
    "tags": []
   },
   "outputs": [
    {
     "name": "stdout",
     "output_type": "stream",
     "text": [
      "\n"
     ]
    },
    {
     "name": "stdin",
     "output_type": "stream",
     "text": [
      "Quit\n",
      "        Adopt <petname_with_no_spaces> <pet_type - choose dog, cat, lab, poodle, bird, or another unknown pet type>\n",
      "        Greet <petname>\n",
      "        Teach <petname> <word>\n",
      "        Feed <petname>\n",
      "\n",
      "        Choice:  Adopt Fluffy poodle\n"
     ]
    },
    {
     "name": "stdout",
     "output_type": "stream",
     "text": [
      "PET CLASS: <class '__main__.Poodle'>\n",
      "\n",
      "\tI'm Fluffy the Poodle. I feel happy.Boredom: 1\n"
     ]
    },
    {
     "name": "stdin",
     "output_type": "stream",
     "text": [
      "Quit\n",
      "        Adopt <petname_with_no_spaces> <pet_type - choose dog, cat, lab, poodle, bird, or another unknown pet type>\n",
      "        Greet <petname>\n",
      "        Teach <petname> <word>\n",
      "        Feed <petname>\n",
      "\n",
      "        Choice:  Adopt Muffy rabbit\n"
     ]
    },
    {
     "name": "stdout",
     "output_type": "stream",
     "text": [
      "PET CLASS: <class '__main__.Pet'>\n",
      "\n",
      "\tI'm Fluffy the Poodle. I feel happy.Boredom: 2\n",
      "\tI'm Muffy the Pet. I feel happy.\n"
     ]
    },
    {
     "name": "stdin",
     "output_type": "stream",
     "text": [
      "Quit\n",
      "        Adopt <petname_with_no_spaces> <pet_type - choose dog, cat, lab, poodle, bird, or another unknown pet type>\n",
      "        Greet <petname>\n",
      "        Teach <petname> <word>\n",
      "        Feed <petname>\n",
      "\n",
      "        Choice:  Quit\n"
     ]
    },
    {
     "name": "stdout",
     "output_type": "stream",
     "text": [
      "Exiting...\n"
     ]
    }
   ],
   "source": [
    "play()"
   ]
  },
  {
   "cell_type": "code",
   "execution_count": null,
   "metadata": {},
   "outputs": [],
   "source": []
  }
 ],
 "metadata": {
  "kernelspec": {
   "display_name": "Python 3 (ipykernel)",
   "language": "python",
   "name": "python3"
  },
  "language_info": {
   "codemirror_mode": {
    "name": "ipython",
    "version": 3
   },
   "file_extension": ".py",
   "mimetype": "text/x-python",
   "name": "python",
   "nbconvert_exporter": "python",
   "pygments_lexer": "ipython3",
   "version": "3.11.6"
  }
 },
 "nbformat": 4,
 "nbformat_minor": 4
}
